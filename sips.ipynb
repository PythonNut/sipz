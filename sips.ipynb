{
 "cells": [
  {
   "cell_type": "code",
   "execution_count": 1,
   "metadata": {},
   "outputs": [],
   "source": [
    "addprocs([\n",
    "    (\"134.173.61.242\", 4), \n",
    "    (\"134.173.60.166\", 4)\n",
    "])\n",
    "\n",
    "# Generate a mutable version of JLOptions\n",
    "@everywhere field_names = fieldnames(Base.JLOptions)\n",
    "@everywhere field_types = Base.JLOptions.types\n",
    "@everywhere num_fields = length(field_names)\n",
    "\n",
    "@everywhere fields = Array{Expr}(num_fields)\n",
    "@everywhere for i = 1:num_fields\n",
    "    fields[i] = :($(field_names[i])::$(field_types[i]))\n",
    "end\n",
    "\n",
    "@everywhere @eval begin\n",
    "    type JLOptionsMutable\n",
    "        $(fields...)\n",
    "    end\n",
    "end\n",
    "\n",
    "@everywhere function use_compilecache(state::Bool)\n",
    "    value = Base.convert(Int, state)\n",
    "\n",
    "    # Load the C global into a mutable Julia type\n",
    "    jl_options = cglobal(:jl_options, JLOptionsMutable)\n",
    "    opts = unsafe_load(jl_options)\n",
    "\n",
    "    # Avoid modifying the global when the value hasn't changed\n",
    "    if opts.use_compilecache != value\n",
    "        opts.use_compilecache = value\n",
    "        unsafe_store!(jl_options, opts)\n",
    "    end\n",
    "\n",
    "    nothing\n",
    "end\n",
    "@everywhere use_compilecache(false)\n",
    "\n",
    "import DifferentialEquations\n",
    "import ParameterizedFunctions\n",
    "@everywhere using DifferentialEquations\n",
    "@everywhere using ParameterizedFunctions\n",
    "using Plots\n",
    "using LsqFit\n",
    "using ProgressMeter\n",
    "using PmapProgressMeter\n",
    "#gr();"
   ]
  },
  {
   "cell_type": "code",
   "execution_count": null,
   "metadata": {
    "collapsed": true
   },
   "outputs": [],
   "source": [
    "pgfplots()"
   ]
  },
  {
   "cell_type": "code",
   "execution_count": 2,
   "metadata": {
    "collapsed": true,
    "scrolled": true
   },
   "outputs": [],
   "source": [
    "@everywhere de_system = @ode_def_noinvjac Sips2 begin\n",
    "    dpx = 1\n",
    "    dpy = 2*pi*sin(2*pi*t/5)\n",
    "    dkx = kvx\n",
    "    dky = kvy\n",
    "    # We add a very small float value to the denominator so we never divide by zero\n",
    "    dkvx = (px - kx)/sqrt((px - kx)^2 + (py - ky)^2+0.00000000001)/m\n",
    "    dkvy = (py - ky)/sqrt((px - kx)^2 + (py - ky)^2+0.00000000001)/m\n",
    "end m=>1.0"
   ]
  },
  {
   "cell_type": "code",
   "execution_count": null,
   "metadata": {
    "scrolled": true
   },
   "outputs": [],
   "source": [
    "time_max = 1000000\n",
    "u0 = [0.0;0.0;0.0;0.0;0.0;0.0]\n",
    "de_system.m = 400\n",
    "tspan = (0.0,1.0 * time_max)\n",
    "prob = ODEProblem(de_system, u0, tspan)\n",
    "\n",
    "#@time sol = solve(prob, Trapezoid(), dt=0.5, maxiters=1e10)\n",
    "#@time sol = solve(prob, Euler(), dt=0.01, maxiters=1e10);\n",
    "@time sol = solve(prob, Vern9(), maxiters=1e10);"
   ]
  },
  {
   "cell_type": "code",
   "execution_count": null,
   "metadata": {},
   "outputs": [],
   "source": [
    "@time T = linspace(0,7000,50000)\n",
    "@time R = hcat(map(sol, T)...)\n",
    "px, py, kx, ky = R[1,:], R[2,:], R[3,:], R[4,:]\n",
    "plot(px, py, label=\"Mouse\", legend=:left)\n",
    "plot!(kx, ky, label=\"Kozai\")\n",
    "xaxis!(\"x\")\n",
    "yaxis!(\"y\")\n",
    "title!(\"Chaotic Solution Regime\")"
   ]
  },
  {
   "cell_type": "code",
   "execution_count": null,
   "metadata": {
    "scrolled": true
   },
   "outputs": [],
   "source": [
    "@time wave_function = zeros(Int(time_max))\n",
    "@showprogress 1 \"Computing...\" for t in linspace(0, time_max, time_max*2)\n",
    "    (px, py, x, y, vx, vy) = sol(t)\n",
    "    wave_function[min(round(Int, x)+1,end)] = y\n",
    "end\n",
    "#wave_function -= mean(wave_function)\n",
    "plot(1:10:min(length(wave_function),20000),wave_function[1:10:20000])\n",
    "xaxis!(\"x\")\n",
    "yaxis!(\"y\")\n",
    "title!(\"De-parameterized solution\")"
   ]
  },
  {
   "cell_type": "code",
   "execution_count": null,
   "metadata": {
    "collapsed": true
   },
   "outputs": [],
   "source": []
  },
  {
   "cell_type": "code",
   "execution_count": null,
   "metadata": {
    "collapsed": true
   },
   "outputs": [],
   "source": [
    "@time T = linspace(1300,1400,500)\n",
    "@time R = hcat(map(sol, T)...)\n",
    "px, py, kx, ky = R[1,:], R[2,:], R[3,:], R[4,:]\n",
    "anim_dt = 100\n",
    "@gif for i in 1:length(px)\n",
    "    @printf(\"%d\\r\", i)\n",
    "    flush(STDOUT)\n",
    "    plot(px[1:i], py[1:i])\n",
    "    plot!(kx[1:i], ky[1:i])\n",
    "end every 1"
   ]
  },
  {
   "cell_type": "code",
   "execution_count": null,
   "metadata": {},
   "outputs": [],
   "source": [
    "time_max = 1e6\n",
    "        \n",
    "# Now convert to frequency space using a Fast Fourier Transform\n",
    "# Lots of random constants floating around to make the frequency mappings work.\n",
    "dT = 1 # This is 1 because we are working in index space\n",
    "yf = 2.0/(time_max/dT) * abs(rfft(wave_function))\n",
    "xf = linspace(0, 0.5/dT, div(time_max/dT,2))\n",
    "pks= zeros(length(xf))\n",
    "#pks[indmax(yf[10:div(indmax(yf),2)])+9] = 0.2\n",
    "#1/xf[indmax(yf[10:div(indmax(yf),2)])+9]\n",
    "#maxidx=round(Int, sum(x -> (if yf[x]>0.04 yf[x] else 0 end)*x,9:200)/sum(x -> (if yf[x]>0.04 yf[x] else 0 end), 9:200))\n",
    "maxidx=indmax(yf[10:div(indmax(yf[10:end])+9,2)])+9\n",
    "#maxidx = findfirst(x -> x > 0.05, yf[10:end])+9\n",
    "pks[maxidx]=0.1\n",
    "xf[maxidx]\n",
    "xf[indmax(yf[10:end])+9]"
   ]
  },
  {
   "cell_type": "code",
   "execution_count": null,
   "metadata": {
    "scrolled": false
   },
   "outputs": [],
   "source": [
    "plot_crop = 100\n",
    "plot(xf[9:1:min(plot_crop,end)], yf[9:1:min(plot_crop,end)], label=\"Frequency\")\n",
    "plot!(xf[9:1:min(plot_crop,end)], pks[9:1:min(plot_crop,end)], label=\"Guess\")\n",
    "xaxis!(\"Frequency\")\n",
    "yaxis!(\"Amplitude\")\n",
    "title!(\"Fourier Decomposition (0-0.0001 Hz)\")"
   ]
  },
  {
   "cell_type": "code",
   "execution_count": null,
   "metadata": {
    "collapsed": true,
    "scrolled": true
   },
   "outputs": [],
   "source": [
    "@time T = linspace(0, 5000, 50000)\n",
    "@time R = hcat(map(sol, T)...)\n",
    "anim_dt = 100\n",
    "@gif for i in 1:anim_dt:50000\n",
    "    @printf(\"%d\\r\", i)\n",
    "    flush(STDOUT)\n",
    "    px, py, kx, ky = R[1,1:i], R[2,1:i], R[3,1:i], R[4,1:i]\n",
    "    plot(px, py)\n",
    "    plot!(kx, ky)\n",
    "end every 1"
   ]
  },
  {
   "cell_type": "code",
   "execution_count": 3,
   "metadata": {
    "collapsed": true
   },
   "outputs": [],
   "source": [
    "@everywhere function mass_to_period(kozai_masses)\n",
    "    # Euler's Method time resolution\n",
    "    pmap(\n",
    "        function (kozai_mass)\n",
    "            time_max=1000000\n",
    "            # Set initial conditions\n",
    "            u0 = [0.0; 0.0; 0.0; 0.0; 0.0; 0.0]\n",
    "            de_system.m = kozai_mass\n",
    "            tspan = (0.0, 1.0*time_max)\n",
    "\n",
    "            # Solve using Hairer's 8/5/3 adaption of the Dormand-Prince 8 Runge-Kutta method. \n",
    "            # (7th order interpolant)\n",
    "            # Oddly, we need a super high-order interpolant, otherwise our\n",
    "            # cumulative errors get out of hand. Vern9 was the only method that \n",
    "            # could solve this system with high accuracy in reaonable time\n",
    "            prob = ODEProblem(de_system, u0, tspan)\n",
    "            sol = solve(prob, Vern9())\n",
    "\n",
    "            # Now we \"flatten\" the parametric position array [[..., x, y, ...]...]\n",
    "            # into a index vs. y array [y1, y2 ...]. We do this so we can later\n",
    "            # pass the array to the DFT, which takes a glat array as input.\n",
    "            # NOTE: We don't perform any scaling. index <==> x\n",
    "            # NOTE: This only makes sense when the parametric curve passes\n",
    "            # the vertical line test, which, in many cases, it does not.\n",
    "            wave_function = zeros(time_max)\n",
    "            for t in linspace(0, time_max, time_max * 2)\n",
    "                (px, py, x, y, vx, vy) = sol(t)\n",
    "                wave_function[min(round(Int, x)+1,end)] = y\n",
    "            end\n",
    "\n",
    "            # Make sure the trajectory is centered around zero.\n",
    "            # Otherwise, the FFT will produce a mess trying to build\n",
    "            # a constant out of sines. \n",
    "            #wave_function -= mean(wave_function)\n",
    "\n",
    "            # Now convert to frequency space using a Fast Fourier Transform\n",
    "            # Lots of random constants floating around to make the frequency mappings work,\n",
    "            # since the real-valued FFT only returns an array of half size\n",
    "            dT = 1 # This is 1 because we are working in index space\n",
    "            yf = 2.0/(time_max/dT) * abs(rfft(wave_function))\n",
    "            xf = linspace(0, 0.5/dT, div(time_max/dT,2))\n",
    "            #1/xf[findmax(yf[10:div(findmax(yf)[2],2)])[2]]\n",
    "\n",
    "            # A heuristic to extract the \"low\" frequency oscillation. Essentially, \n",
    "            # we find the strongest signal, which is the  \"high\" frequency \n",
    "            # oscillation and look for a peak at less than half that frequency.\n",
    "            try\n",
    "                fast_idx = indmax(yf[10:end])+9\n",
    "                #maxidx=indmax(yf[10:div(indmax(yf[10:end])+9,2)])+9\n",
    "                #maxidx=floor(Int, sum(x -> (if yf[x]>0.05 yf[x] else 0 end)*x,9:200)/sum(x -> (if yf[x]>0.05 yf[x] else 0 end), 9:200))\n",
    "                #maxidx=findfirst(x -> x > 0.04, yf[10:end])+9\n",
    "                fast_period = 1/xf[fast_idx]\n",
    "                slow_idx = indmax(yf[10:div(fast_idx, 2)])+9\n",
    "                slow_period = 1/xf[slow_idx]\n",
    "                \n",
    "                (slow_period, fast_period)\n",
    "            catch\n",
    "                0\n",
    "            end\n",
    "        end, \n",
    "        Progress(length(kozai_masses)), kozai_masses)\n",
    "end;"
   ]
  },
  {
   "cell_type": "code",
   "execution_count": null,
   "metadata": {
    "scrolled": false
   },
   "outputs": [
    {
     "name": "stderr",
     "output_type": "stream",
     "text": [
      "Progress:  28%|███████████                              |  ETA: 0:14:16"
     ]
    }
   ],
   "source": [
    "X = linspace(50, 450, 250)\n",
    "periods = mass_to_period(X)"
   ]
  },
  {
   "cell_type": "code",
   "execution_count": null,
   "metadata": {
    "scrolled": true
   },
   "outputs": [],
   "source": [
    "quad(x, p) = p[1] + p[2].*x + p[3].*x.^2\n",
    "fit = curve_fit(quad, X, map(x -> x[1], periods), [0.0,0.0,0.0])\n",
    "plot(X, map(x -> x[1], periods), label=\"Period\")\n",
    "plot!(X, map(x -> quad(x, fit.param), X), label=\"Best fit\")\n",
    "xaxis!(\"Mass\")\n",
    "yaxis!(\"Long-range period\")\n",
    "title!(\"Period vs. Mass\")"
   ]
  },
  {
   "cell_type": "code",
   "execution_count": null,
   "metadata": {
    "scrolled": true
   },
   "outputs": [],
   "source": [
    "line(x, p) = p[1] + p[2].*x\n",
    "fit = curve_fit(line, X, map(x -> x[2], periods), [0.0,0.0])\n",
    "plot(X, map(x -> x[2], periods), label=\"Period\")\n",
    "plot!(X, map(x -> line(x, fit.param), X), label=\"Best fit\")\n",
    "xaxis!(\"Mass\")\n",
    "yaxis!(\"Short-range period\")\n",
    "title!(\"Short-range Period vs. Mass\")"
   ]
  },
  {
   "cell_type": "code",
   "execution_count": null,
   "metadata": {
    "collapsed": true
   },
   "outputs": [],
   "source": [
    "(fit.param, estimate_errors(fit,0.95))"
   ]
  },
  {
   "cell_type": "code",
   "execution_count": null,
   "metadata": {
    "scrolled": true
   },
   "outputs": [],
   "source": [
    "for (t, p) in zip(X, periods)\n",
    "    @printf(\"%f, %f, %f\\n\", t, p[1], p[2])\n",
    "end"
   ]
  }
 ],
 "metadata": {
  "kernelspec": {
   "display_name": "Julia 0.5.1",
   "language": "julia",
   "name": "julia-0.5"
  },
  "language_info": {
   "file_extension": ".jl",
   "mimetype": "application/julia",
   "name": "julia",
   "version": "0.5.1"
  }
 },
 "nbformat": 4,
 "nbformat_minor": 2
}
