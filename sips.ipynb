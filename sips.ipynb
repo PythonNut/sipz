{
 "cells": [
  {
   "cell_type": "code",
   "execution_count": 1,
   "metadata": {
    "collapsed": true,
    "scrolled": true
   },
   "outputs": [],
   "source": [
    "addprocs(4)\n",
    "import DifferentialEquations\n",
    "import ParameterizedFunctions\n",
    "@everywhere using DifferentialEquations\n",
    "@everywhere using ParameterizedFunctions\n",
    "using Plots\n",
    "using LsqFit\n",
    "using ProgressMeter\n",
    "using PmapProgressMeter\n",
    "gr();"
   ]
  },
  {
   "cell_type": "code",
   "execution_count": 2,
   "metadata": {
    "collapsed": true,
    "scrolled": true
   },
   "outputs": [],
   "source": [
    "@everywhere de_system = @ode_def_noinvjac Sips2 begin\n",
    "    dpx = 1\n",
    "    dpy = 2*pi*sin(2*pi*t/5)\n",
    "    dkx = kvx\n",
    "    dky = kvy\n",
    "    # We add a very small float value to the denominator so we never divide by zero\n",
    "    dkvx = (px - kx)/sqrt((px - kx)^2 + (py - ky)^2+0.00000000001)/m\n",
    "    dkvy = (py - ky)/sqrt((px - kx)^2 + (py - ky)^2+0.00000000001)/m\n",
    "end m=>1.0"
   ]
  },
  {
   "cell_type": "code",
   "execution_count": 12,
   "metadata": {
    "scrolled": true
   },
   "outputs": [
    {
     "name": "stdout",
     "output_type": "stream",
     "text": [
      " 57.398141 seconds (138.18 M allocations: 11.256 GB, 55.70% gc time)\n"
     ]
    }
   ],
   "source": [
    "time_max = 1000000\n",
    "u0 = [0.0;0.0;0.0;0.0;0.0;0.0]\n",
    "de_system.m = 106\n",
    "tspan = (0.0,1.0 * time_max)\n",
    "prob = ODEProblem(de_system, u0, tspan)\n",
    "\n",
    "@time sol = solve(prob, Trapezoid(), dt=0.5, maxiters=1e10)\n",
    "#@time sol = solve(prob, Euler(), dt=0.5, maxiters=1e10);\n",
    "#@time sol = solve(prob, Vern9());"
   ]
  },
  {
   "cell_type": "code",
   "execution_count": null,
   "metadata": {
    "collapsed": true
   },
   "outputs": [],
   "source": [
    "@time T = linspace(0,50000,10000)\n",
    "@time R = hcat(map(sol, T)...)\n",
    "px, py, kx, ky = R[1,:], R[2,:], R[3,:], R[4,:]\n",
    "#plot(px, py)\n",
    "plot(kx, ky)\n",
    "xaxis!(\"x\")\n",
    "yaxis!(\"y\")\n",
    "title!(\"Long term solution behavior\")"
   ]
  },
  {
   "cell_type": "code",
   "execution_count": null,
   "metadata": {
    "collapsed": true,
    "scrolled": true
   },
   "outputs": [],
   "source": [
    "@time wave_function = zeros(Int(time_max))\n",
    "@showprogress 1 \"Computing...\" for t in linspace(0, time_max, time_max*2)\n",
    "    (px, py, x, y, vx, vy) = sol(t)\n",
    "    wave_function[min(round(Int, x)+1,end)] = y\n",
    "end\n",
    "#wave_function -= mean(wave_function)\n",
    "plot(1:10:min(length(wave_function),20000),wave_function[1:10:20000])\n",
    "xaxis!(\"x\")\n",
    "yaxis!(\"y\")\n",
    "title!(\"De-parameterized solution\")"
   ]
  },
  {
   "cell_type": "code",
   "execution_count": null,
   "metadata": {
    "collapsed": true
   },
   "outputs": [],
   "source": []
  },
  {
   "cell_type": "code",
   "execution_count": null,
   "metadata": {
    "collapsed": true
   },
   "outputs": [],
   "source": [
    "@time T = linspace(1300,1400,500)\n",
    "@time R = hcat(map(sol, T)...)\n",
    "px, py, kx, ky = R[1,:], R[2,:], R[3,:], R[4,:]\n",
    "anim_dt = 100\n",
    "@gif for i in 1:length(px)\n",
    "    @printf(\"%d\\r\", i)\n",
    "    flush(STDOUT)\n",
    "    plot(px[1:i], py[1:i])\n",
    "    plot!(kx[1:i], ky[1:i])\n",
    "end every 1"
   ]
  },
  {
   "cell_type": "code",
   "execution_count": null,
   "metadata": {
    "collapsed": true
   },
   "outputs": [],
   "source": [
    "time_max = 1e6\n",
    "        \n",
    "# Now convert to frequency space using a Fast Fourier Transform\n",
    "# Lots of random constants floating around to make the frequency mappings work.\n",
    "dT = 1 # This is 1 because we are working in index space\n",
    "yf = 2.0/(time_max/dT) * abs(rfft(wave_function))\n",
    "xf = linspace(0, 0.5/dT, div(time_max/dT,2))\n",
    "pks= zeros(length(xf))\n",
    "#pks[indmax(yf[10:div(indmax(yf),2)])+9] = 0.2\n",
    "#1/xf[indmax(yf[10:div(indmax(yf),2)])+9]\n",
    "#maxidx=round(Int, sum(x -> (if yf[x]>0.04 yf[x] else 0 end)*x,9:200)/sum(x -> (if yf[x]>0.04 yf[x] else 0 end), 9:200))\n",
    "maxidx=indmax(yf[10:div(indmax(yf[10:end])+9,2)])+9\n",
    "#maxidx = findfirst(x -> x > 0.05, yf[10:end])+9\n",
    "pks[maxidx]=0.1\n",
    "1/xf[maxidx]"
   ]
  },
  {
   "cell_type": "code",
   "execution_count": null,
   "metadata": {
    "collapsed": true,
    "scrolled": false
   },
   "outputs": [],
   "source": [
    "plot_crop = 10000\n",
    "plot(xf[9:1:min(plot_crop,end)], yf[9:1:min(plot_crop,end)])\n",
    "plot!(xf[9:1:min(plot_crop,end)], pks[9:1:min(plot_crop,end)])\n",
    "xaxis!(\"Frequency\")\n",
    "yaxis!(\"Amplitude\")"
   ]
  },
  {
   "cell_type": "code",
   "execution_count": 13,
   "metadata": {
    "scrolled": true
   },
   "outputs": [
    {
     "name": "stdout",
     "output_type": "stream",
     "text": [
      "  0.000003 seconds (5 allocations: 208 bytes)\n",
      "  0.082376 seconds (496.95 k allocations: 22.079 MB, 63.11% gc time)\n",
      "49901\r"
     ]
    },
    {
     "name": "stderr",
     "output_type": "stream",
     "text": [
      "\u001b[1m\u001b[34mINFO: Saved animation to /home/pythonnut/Documents/prog/sipz/tmp.gif\n",
      "\u001b[0m"
     ]
    },
    {
     "data": {
      "text/html": [
       "<img src=\"tmp.gif?0.1962248384828027>\" />"
      ],
      "text/plain": [
       "Plots.AnimatedGif(\"/home/pythonnut/Documents/prog/sipz/tmp.gif\")"
      ]
     },
     "execution_count": 13,
     "metadata": {},
     "output_type": "execute_result"
    }
   ],
   "source": [
    "@time T = linspace(0, 5000, 50000)\n",
    "@time R = hcat(map(sol, T)...)\n",
    "anim_dt = 100\n",
    "@gif for i in 1:anim_dt:50000\n",
    "    @printf(\"%d\\r\", i)\n",
    "    flush(STDOUT)\n",
    "    px, py, kx, ky = R[1,1:i], R[2,1:i], R[3,1:i], R[4,1:i]\n",
    "    plot(px, py)\n",
    "    plot!(kx, ky)\n",
    "end every 1"
   ]
  },
  {
   "cell_type": "code",
   "execution_count": null,
   "metadata": {
    "collapsed": true
   },
   "outputs": [],
   "source": [
    "function mass_to_period(kozai_masses)\n",
    "    # Euler's Method time resolution\n",
    "    pmap(\n",
    "        function (kozai_mass)\n",
    "            time_max=1000000\n",
    "            # Set initial conditions\n",
    "            u0 = [0.0; 0.0; 0.0; 0.0; 0.0; 0.0]\n",
    "            de_system.m = kozai_mass\n",
    "            tspan = (0.0, 1.0*time_max)\n",
    "\n",
    "            # Solve using Hairer's 8/5/3 adaption of the Dormand-Prince 8 Runge-Kutta method. \n",
    "            # (7th order interpolant)\n",
    "            # Oddly, we need a super high-order interpolant, otherwise our\n",
    "            # cumulative errors get out of hand. Vern9 was the only method that \n",
    "            # could solve this system with high accuracy in reaonable time\n",
    "            prob = ODEProblem(de_system, u0, tspan)\n",
    "            sol = solve(prob, Vern9())\n",
    "\n",
    "            # Now we \"flatten\" the parametric position array [[..., x, y, ...]...]\n",
    "            # into a index vs. y array [y1, y2 ...]. We do this so we can later\n",
    "            # pass the array to the DFT, which takes a glat array as input.\n",
    "            # NOTE: We don't perform any scaling. index <==> x\n",
    "            # NOTE: This only makes sense when the parametric curve passes\n",
    "            # the vertical line test, which, in many cases, it does not.\n",
    "            wave_function = zeros(time_max)\n",
    "            for t in linspace(0, time_max, time_max * 2)\n",
    "                (px, py, x, y, vx, vy) = sol(t)\n",
    "                wave_function[min(round(Int, x)+1,end)] = y\n",
    "            end\n",
    "\n",
    "            # Make sure the trajectory is centered around zero.\n",
    "            # Otherwise, the FFT will produce a mess trying to build\n",
    "            # a constant out of sines. \n",
    "            #wave_function -= mean(wave_function)\n",
    "\n",
    "            # Now convert to frequency space using a Fast Fourier Transform\n",
    "            # Lots of random constants floating around to make the frequency mappings work,\n",
    "            # since the real-valued FFT only returns an array of half size\n",
    "            dT = 1 # This is 1 because we are working in index space\n",
    "            yf = 2.0/(time_max/dT) * abs(rfft(wave_function))\n",
    "            xf = linspace(0, 0.5/dT, div(time_max/dT,2))\n",
    "            #1/xf[findmax(yf[10:div(findmax(yf)[2],2)])[2]]\n",
    "\n",
    "            # A heuristic to extract the \"low\" frequency oscillation. Essentially, \n",
    "            # we find the strongest signal, which is the  \"high\" frequency \n",
    "            # oscillation and look for a peak at less than half that frequency.\n",
    "            try\n",
    "                fast_idx = indmax(yf[10:end])+9\n",
    "                #maxidx=indmax(yf[10:div(indmax(yf[10:end])+9,2)])+9\n",
    "                #maxidx=floor(Int, sum(x -> (if yf[x]>0.05 yf[x] else 0 end)*x,9:200)/sum(x -> (if yf[x]>0.05 yf[x] else 0 end), 9:200))\n",
    "                #maxidx=findfirst(x -> x > 0.04, yf[10:end])+9\n",
    "                fast_period = 1/xf[fast_idx]\n",
    "                slow_idx = indmax(yf[10:div(fast_idx, 2)])+9\n",
    "                slow_period = 1/xf[slow_idx]\n",
    "                \n",
    "                (slow_period, fast_period)\n",
    "            catch\n",
    "                0\n",
    "            end\n",
    "        end, \n",
    "        Progress(length(kozai_masses)), kozai_masses)\n",
    "end;"
   ]
  },
  {
   "cell_type": "code",
   "execution_count": null,
   "metadata": {
    "collapsed": true,
    "scrolled": false
   },
   "outputs": [],
   "source": [
    "X = linspace(50, 450, 50)\n",
    "periods = mass_to_period(X)"
   ]
  },
  {
   "cell_type": "code",
   "execution_count": null,
   "metadata": {
    "collapsed": true
   },
   "outputs": [],
   "source": [
    "# was 111110.88888888889\n",
    "periods[107] = (periods[106] + periods[108])/2"
   ]
  },
  {
   "cell_type": "code",
   "execution_count": null,
   "metadata": {
    "collapsed": true,
    "scrolled": true
   },
   "outputs": [],
   "source": [
    "plot(X, periods)\n",
    "xaxis!(\"Mass\")\n",
    "yaxis!(\"Long-range period\")\n",
    "title!(\"Period vs. Mass\")"
   ]
  },
  {
   "cell_type": "code",
   "execution_count": null,
   "metadata": {
    "collapsed": true,
    "scrolled": true
   },
   "outputs": [],
   "source": [
    "quad(x, p) = p[1] + p[2].*x + p[3].*x.^2\n",
    "fit = curve_fit(quad, X, periods, [0.0,0.0,0.0])\n",
    "plot(X, periods)\n",
    "plot!(X, map(x -> quad(x, fit.param), X))\n",
    "xaxis!(\"Mass\")\n",
    "yaxis!(\"Long-range period\")\n",
    "title!(\"Period vs. Mass\")"
   ]
  },
  {
   "cell_type": "code",
   "execution_count": null,
   "metadata": {
    "collapsed": true
   },
   "outputs": [],
   "source": [
    "(fit.param, estimate_errors(fit,0.95))"
   ]
  },
  {
   "cell_type": "code",
   "execution_count": null,
   "metadata": {
    "collapsed": true,
    "scrolled": true
   },
   "outputs": [],
   "source": [
    "for (t, p) in zip(X, periods)\n",
    "    @printf(\"%f: %f\\n\", t, p)\n",
    "end"
   ]
  }
 ],
 "metadata": {
  "kernelspec": {
   "display_name": "Julia 0.5.1",
   "language": "julia",
   "name": "julia-0.5"
  },
  "language_info": {
   "file_extension": ".jl",
   "mimetype": "application/julia",
   "name": "julia",
   "version": "0.5.1"
  }
 },
 "nbformat": 4,
 "nbformat_minor": 2
}
