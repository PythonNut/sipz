{
 "cells": [
  {
   "cell_type": "code",
   "execution_count": null,
   "metadata": {},
   "outputs": [],
   "source": [
    "addprocs([\n",
    "    (\"134.173.61.242\", 4), \n",
    "    (\"134.173.60.166\", 4)\n",
    "])"
   ]
  },
  {
   "cell_type": "code",
   "execution_count": null,
   "metadata": {},
   "outputs": [],
   "source": [
    "# Generate a mutable version of JLOptions\n",
    "@everywhere field_names = fieldnames(Base.JLOptions)\n",
    "@everywhere field_types = Base.JLOptions.types\n",
    "@everywhere num_fields = length(field_names)\n",
    "\n",
    "@everywhere fields = Array{Expr}(num_fields)\n",
    "@everywhere for i = 1:num_fields\n",
    "    fields[i] = :($(field_names[i])::$(field_types[i]))\n",
    "end\n",
    "\n",
    "@everywhere @eval begin\n",
    "    type JLOptionsMutable\n",
    "        $(fields...)\n",
    "    end\n",
    "end\n",
    "\n",
    "@everywhere function use_compilecache(state::Bool)\n",
    "    value = Base.convert(Int, state)\n",
    "\n",
    "    # Load the C global into a mutable Julia type\n",
    "    jl_options = cglobal(:jl_options, JLOptionsMutable)\n",
    "    opts = unsafe_load(jl_options)\n",
    "\n",
    "    # Avoid modifying the global when the value hasn't changed\n",
    "    if opts.use_compilecache != value\n",
    "        opts.use_compilecache = value\n",
    "        unsafe_store!(jl_options, opts)\n",
    "    end\n",
    "\n",
    "    nothing\n",
    "end\n",
    "@everywhere use_compilecache(false)"
   ]
  },
  {
   "cell_type": "code",
   "execution_count": null,
   "metadata": {},
   "outputs": [],
   "source": [
    "import DifferentialEquations\n",
    "import ParameterizedFunctions\n",
    "@everywhere using DifferentialEquations\n",
    "@everywhere using ParameterizedFunctions"
   ]
  },
  {
   "cell_type": "code",
   "execution_count": null,
   "metadata": {
    "scrolled": true
   },
   "outputs": [],
   "source": [
    "@everywhere g = @ode_def_bare Sipz2 begin    \n",
    "    dp = sin(t)\n",
    "    dk = kv\n",
    "    dkv = sign(p - k)/m\n",
    "end m=>1"
   ]
  },
  {
   "cell_type": "code",
   "execution_count": null,
   "metadata": {},
   "outputs": [],
   "source": [
    "@everywhere u0 = [0.0;0.0;0.0;0.0;0.0;0.0]\n",
    "@everywhere g.m = 2500\n",
    "@everywhere tspan = (0.0,10000000.0)\n",
    "@everywhere prob = ODEProblem(g,u0,tspan)\n",
    "\n",
    "@everywhere sol = solve(prob, Trapezoid(), dt=0.01)"
   ]
  },
  {
   "cell_type": "code",
   "execution_count": null,
   "metadata": {},
   "outputs": [],
   "source": [
    "@time t = linspace(0,1000,100000)\n",
    "@time r = hcat(map(sol, t)...)\n",
    "p, k = r[1,:], r[2,:]\n",
    "plot(t, p)\n",
    "plot!(t, k)"
   ]
  }
 ],
 "metadata": {
  "kernelspec": {
   "display_name": "Julia 0.5.1",
   "language": "julia",
   "name": "julia-0.5"
  },
  "language_info": {
   "file_extension": ".jl",
   "mimetype": "application/julia",
   "name": "julia",
   "version": "0.5.1"
  }
 },
 "nbformat": 4,
 "nbformat_minor": 2
}
